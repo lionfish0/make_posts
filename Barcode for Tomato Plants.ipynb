{
 "cells": [
  {
   "cell_type": "code",
   "execution_count": 9,
   "metadata": {},
   "outputs": [],
   "source": []
  },
  {
   "cell_type": "code",
   "execution_count": null,
   "metadata": {},
   "outputs": [],
   "source": [
    "for code in code"
   ]
  },
  {
   "cell_type": "code",
   "execution_count": null,
   "metadata": {},
   "outputs": [],
   "source": [
    "img.save()"
   ]
  },
  {
   "cell_type": "code",
   "execution_count": 16,
   "metadata": {},
   "outputs": [
    {
     "data": {
      "text/plain": [
       "(0, 0, 70, 70)"
      ]
     },
     "execution_count": 16,
     "metadata": {},
     "output_type": "execute_result"
    }
   ],
   "source": [
    "img.getbbox()"
   ]
  },
  {
   "cell_type": "code",
   "execution_count": 69,
   "metadata": {},
   "outputs": [
    {
     "name": "stdout",
     "output_type": "stream",
     "text": [
      "11-3\n",
      "(70, 70)\n",
      "(60, 60)\n",
      "11-5\n",
      "(70, 70)\n",
      "(60, 60)\n",
      "14-1\n",
      "(70, 70)\n",
      "(60, 60)\n",
      "1-5\n",
      "(70, 70)\n",
      "(60, 60)\n",
      "13-1\n",
      "(70, 70)\n",
      "(60, 60)\n",
      "6-3\n",
      "(70, 70)\n",
      "(60, 60)\n",
      "13-12\n",
      "(70, 70)\n",
      "(60, 60)\n",
      "11-2\n",
      "(70, 70)\n",
      "(60, 60)\n",
      "5-4\n",
      "(70, 70)\n",
      "(60, 60)\n",
      "13-3\n",
      "(70, 70)\n",
      "(60, 60)\n",
      "5-3\n",
      "(70, 70)\n",
      "(60, 60)\n",
      "10-3\n",
      "(70, 70)\n",
      "(60, 60)\n",
      "9-7\n",
      "(70, 70)\n",
      "(60, 60)\n",
      "8-6\n",
      "(70, 70)\n",
      "(60, 60)\n",
      "6-2\n",
      "(70, 70)\n",
      "(60, 60)\n",
      "6-7\n",
      "(70, 70)\n",
      "(60, 60)\n",
      "11-1\n",
      "(70, 70)\n",
      "(60, 60)\n",
      "14-12\n",
      "(70, 70)\n",
      "(60, 60)\n",
      "13-8\n",
      "(70, 70)\n",
      "(60, 60)\n",
      "8-8\n",
      "(70, 70)\n",
      "(60, 60)\n",
      "9-2\n",
      "(70, 70)\n",
      "(60, 60)\n",
      "8-4\n",
      "(70, 70)\n",
      "(60, 60)\n",
      "13-11\n",
      "(70, 70)\n",
      "(60, 60)\n",
      "9-4\n",
      "(70, 70)\n",
      "(60, 60)\n"
     ]
    }
   ],
   "source": [
    "#### from pylibdmtx.pylibdmtx import encode, decode\n",
    "from PIL import Image\n",
    "from PIL import ImageFont\n",
    "from PIL import ImageDraw \n",
    "codes = ['11-3','11-5','14-1','1-5','13-1','6-3','13-12','11-2','5-4','13-3','5-3','10-3','9-7','8-6','6-2','6-7','11-1','14-12','13-8','8-8','9-2','8-4','13-11','9-4']\n",
    "imgs = []\n",
    "for code in codes:\n",
    "    print(code)\n",
    "    encoded = encode(code.encode('utf8'),size='10x10')\n",
    "    img = Image.frombytes('RGB', (encoded.width, encoded.height), encoded.pixels)\n",
    "    \n",
    "    #210 x 297 mm --> 72dpi = 2.83dpmm = 595 pixels across\n",
    "    #297 x 420 mm --> 72dpi = 2.83dpmm = 841 pixels across\n",
    "    width,height = 842, 1191 #595,842\n",
    "    print(img.size)\n",
    "    img = img.crop((5,5,65,65)) #70x70 (14x14) --> 60x60(12x12)\n",
    "    print(img.size)\n",
    "    img = img.resize((width,width),resample=Image.Resampling.NEAREST)\n",
    "    a4im = Image.new('RGB',\n",
    "                     (width,height),   # A4 at 72dpi\n",
    "                     (255, 255, 255))  # White\n",
    "    a4im.paste(img, (0,0))#(img.getbbox()))  # Not centered, top-left corner\n",
    "    draw = ImageDraw.Draw(a4im)\n",
    "    font = ImageFont.truetype(\"FreeSans.ttf\",size=150)\n",
    "\n",
    "    draw.text((150, width+50),code,(0,0,0),font=font)\n",
    "    imgs.append(a4im)\n",
    "    \n",
    "imgs[0].save(\"out.pdf\", save_all=True, append_images=imgs[1:])"
   ]
  },
  {
   "cell_type": "code",
   "execution_count": 2,
   "metadata": {},
   "outputs": [
    {
     "ename": "UnidentifiedImageError",
     "evalue": "cannot identify image file 'dmtx.pdf'",
     "output_type": "error",
     "traceback": [
      "\u001b[0;31m---------------------------------------------------------------------------\u001b[0m",
      "\u001b[0;31mUnidentifiedImageError\u001b[0m                    Traceback (most recent call last)",
      "\u001b[0;32m<ipython-input-2-5d44b631861c>\u001b[0m in \u001b[0;36m<module>\u001b[0;34m\u001b[0m\n\u001b[0;32m----> 1\u001b[0;31m \u001b[0mprint\u001b[0m\u001b[0;34m(\u001b[0m\u001b[0mdecode\u001b[0m\u001b[0;34m(\u001b[0m\u001b[0mImage\u001b[0m\u001b[0;34m.\u001b[0m\u001b[0mopen\u001b[0m\u001b[0;34m(\u001b[0m\u001b[0;34m'dmtx.pdf'\u001b[0m\u001b[0;34m)\u001b[0m\u001b[0;34m)\u001b[0m\u001b[0;34m)\u001b[0m\u001b[0;34m\u001b[0m\u001b[0;34m\u001b[0m\u001b[0m\n\u001b[0m",
      "\u001b[0;32m~/anaconda3/lib/python3.8/site-packages/PIL/Image.py\u001b[0m in \u001b[0;36mopen\u001b[0;34m(fp, mode, formats)\u001b[0m\n\u001b[1;32m   3121\u001b[0m     \u001b[0;32mfor\u001b[0m \u001b[0mmessage\u001b[0m \u001b[0;32min\u001b[0m \u001b[0maccept_warnings\u001b[0m\u001b[0;34m:\u001b[0m\u001b[0;34m\u001b[0m\u001b[0;34m\u001b[0m\u001b[0m\n\u001b[1;32m   3122\u001b[0m         \u001b[0mwarnings\u001b[0m\u001b[0;34m.\u001b[0m\u001b[0mwarn\u001b[0m\u001b[0;34m(\u001b[0m\u001b[0mmessage\u001b[0m\u001b[0;34m)\u001b[0m\u001b[0;34m\u001b[0m\u001b[0;34m\u001b[0m\u001b[0m\n\u001b[0;32m-> 3123\u001b[0;31m     raise UnidentifiedImageError(\n\u001b[0m\u001b[1;32m   3124\u001b[0m         \u001b[0;34m\"cannot identify image file %r\"\u001b[0m \u001b[0;34m%\u001b[0m \u001b[0;34m(\u001b[0m\u001b[0mfilename\u001b[0m \u001b[0;32mif\u001b[0m \u001b[0mfilename\u001b[0m \u001b[0;32melse\u001b[0m \u001b[0mfp\u001b[0m\u001b[0;34m)\u001b[0m\u001b[0;34m\u001b[0m\u001b[0;34m\u001b[0m\u001b[0m\n\u001b[1;32m   3125\u001b[0m     )\n",
      "\u001b[0;31mUnidentifiedImageError\u001b[0m: cannot identify image file 'dmtx.pdf'"
     ]
    }
   ],
   "source": [
    "print(decode(Image.open('dmtx.pdf')))"
   ]
  }
 ],
 "metadata": {
  "kernelspec": {
   "display_name": "Python 3",
   "language": "python",
   "name": "python3"
  },
  "language_info": {
   "codemirror_mode": {
    "name": "ipython",
    "version": 3
   },
   "file_extension": ".py",
   "mimetype": "text/x-python",
   "name": "python",
   "nbconvert_exporter": "python",
   "pygments_lexer": "ipython3",
   "version": "3.8.3"
  }
 },
 "nbformat": 4,
 "nbformat_minor": 4
}
