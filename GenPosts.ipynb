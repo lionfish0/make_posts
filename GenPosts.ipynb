{
 "cells": [
  {
   "cell_type": "markdown",
   "metadata": {},
   "source": [
    "# Summary\n",
    "\n",
    "This generates black and white 'barcodes' for posts for field\n",
    "experiments.\n",
    "\n",
    "Requirements:\n",
    " - machine readable / detectable\n",
    " - readable from 50m using a wide-angle ~2000x1500 camera\n",
    " - more than 10 unique codes\n",
    " - 60cm tall maximum\n",
    " \n",
    "With 60cm height, pixels at 50m will be about 3cm. So here I've allowed for 11.5 'tiles', the 0.5 is a top half-tile with a human readable number in.\n",
    "\n",
    "I'll go with binary (black/white) tiles for maximum contrast (black = 1, white = 0).\n",
    "To make it machine readable, I've added a standard sequence 010110 to the middle of all the patterns:\n",
    "XX010110XXX\n",
    "The idea here is that it can be found in the image. Second putting it in the middle means it can be used to 'clock' the tiles on either side. It also is structured so it can't be found in the actual data:\n",
    "\n",
    "```\n",
    "010110\n",
    "XX010110XXX\n",
    "       0101...\n",
    "```\n",
    "\n",
    "I've also made the last bit a parity bit (1 if there are an odd number of 1s in the data) - so it ensures there's an even number of ones (in the data).\n",
    "\n",
    "```\n",
    "    D = data\n",
    "    010110 = fixed\n",
    "    P = parity\n",
    "    \n",
    "    DD010110DDP\n",
    "0 = 00010110000\n",
    "1 = 00010110011\n",
    "2 = 00010110101\n",
    "3 = 00010110110\n",
    "4 = 01010110001\n",
    "5 = 01010110010\n",
    "6 = 01010110100\n",
    "7 = 01010110111\n",
    "8 = 10010110001\n",
    "9 = 10010110010\n",
    "10= etc\n",
    "15= 11010110110\n",
    "```\n"
   ]
  },
  {
   "cell_type": "code",
   "execution_count": 4,
   "metadata": {},
   "outputs": [
    {
     "name": "stdout",
     "output_type": "stream",
     "text": [
      "11 bits\n",
      "stepsize: 51.3 mm\n",
      "width: 209.0 mm\n",
      "tile size: 66.5 x 51.3 mm\n",
      "tile size: 2.7 x 2.1 pixels\n",
      "pixels per tile: 5.7\n"
     ]
    },
    {
     "data": {
      "text/plain": [
       "''"
      ]
     },
     "execution_count": 4,
     "metadata": {},
     "output_type": "execute_result"
    }
   ],
   "source": [
    "from fpdf import FPDF\n",
    "pdf_h = 594\n",
    "pdf_w = 420\n",
    "pdf = FPDF('L','mm',format=(pdf_h,pdf_w)) #A2 portrait\n",
    "\n",
    "def get_code(n):\n",
    "    \"\"\"\n",
    "    nbits = number of bits of data\n",
    "    parity = whether to add a parity bit\n",
    "    \"\"\"\n",
    "    outstring = (\"{0:04b}\".format(n))\n",
    "    paritybit = '1' if (bin(n).count('1')%2==1) else '0'\n",
    "    outstring = outstring+paritybit\n",
    "\n",
    "    out = outstring[:2]+\"010110\"+outstring[2:]\n",
    "    return out\n",
    "    \n",
    "\n",
    "bits = len(get_code(0))\n",
    "topgap = 30\n",
    "stepsize = (pdf_h-topgap) / bits\n",
    "width = pdf_w/2-1\n",
    "idx = 0\n",
    "print(\"%d bits\" % bits)\n",
    "print(\"stepsize: %0.1f mm\" % stepsize)\n",
    "print(\"width: %0.1f mm\" % width)\n",
    "\n",
    "imagewidthatdistance = 50e3 #50m\n",
    "pixel_size = 2048\n",
    "mmperpixel = imagewidthatdistance/pixel_size\n",
    "pixelspertile = ((width/3.14159) * stepsize)/(mmperpixel**2)\n",
    "print(\"tile size: %0.1f x %0.1f mm\" % ((1.0*width/3.14159), 1.0*stepsize))\n",
    "print(\"tile size: %0.1f x %0.1f pixels\" % ((1.0*width/3.14159)/mmperpixel, 1.0*stepsize/mmperpixel))\n",
    "print(\"pixels per tile: %0.1f\" % pixelspertile)\n",
    "\n",
    "def draw_code(pdf,number,pageloc,stepsize,width,pos=0):\n",
    "    code = get_code(number)\n",
    "    for i,c in enumerate(code):\n",
    "        if c=='1': pdf.rect(pageloc,pos,width,stepsize,style='F')\n",
    "        pos+=stepsize\n",
    "\n",
    "for idx in range(12):\n",
    "    if idx%2==0:\n",
    "        pdf.add_page()\n",
    "        loc = 0\n",
    "    else:\n",
    "        loc = pdf_w-width\n",
    "    draw_code(pdf,idx,loc,stepsize,width,topgap)\n",
    "    pdf.line(pdf_w/2,0,pdf_w/2,pdf_h)\n",
    "    pdf.set_font('Arial', 'B', 27/0.352778)\n",
    "    pdf.text(loc+20,topgap-5, ('%02d  ' % idx)*4)\n",
    "    \n",
    "pdf.output('done12.pdf','F')"
   ]
  },
  {
   "cell_type": "code",
   "execution_count": null,
   "metadata": {},
   "outputs": [],
   "source": []
  }
 ],
 "metadata": {
  "kernelspec": {
   "display_name": "Python 3",
   "language": "python",
   "name": "python3"
  },
  "language_info": {
   "codemirror_mode": {
    "name": "ipython",
    "version": 3
   },
   "file_extension": ".py",
   "mimetype": "text/x-python",
   "name": "python",
   "nbconvert_exporter": "python",
   "pygments_lexer": "ipython3",
   "version": "3.8.3"
  }
 },
 "nbformat": 4,
 "nbformat_minor": 4
}
